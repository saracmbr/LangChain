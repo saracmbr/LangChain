{
  "nbformat": 4,
  "nbformat_minor": 0,
  "metadata": {
    "colab": {
      "provenance": [],
      "authorship_tag": "ABX9TyPGTQ48rEsGK0duwOY0Jna7",
      "include_colab_link": true
    },
    "kernelspec": {
      "name": "python3",
      "display_name": "Python 3"
    },
    "language_info": {
      "name": "python"
    }
  },
  "cells": [
    {
      "cell_type": "markdown",
      "metadata": {
        "id": "view-in-github",
        "colab_type": "text"
      },
      "source": [
        "<a href=\"https://colab.research.google.com/github/saracmbr/LangChain/blob/main/langchain_CommaSeparatedListOutputParser.ipynb\" target=\"_parent\"><img src=\"https://colab.research.google.com/assets/colab-badge.svg\" alt=\"Open In Colab\"/></a>"
      ]
    },
    {
      "cell_type": "code",
      "execution_count": null,
      "metadata": {
        "id": "cgAFwvl55u9c",
        "colab": {
          "base_uri": "https://localhost:8080/"
        },
        "outputId": "e347b543-83cf-4f9b-8c22-35c42a67f393"
      },
      "outputs": [
        {
          "output_type": "stream",
          "name": "stdout",
          "text": [
            "\u001b[2K     \u001b[90m━━━━━━━━━━━━━━━━━━━━━━━━━━━━━━━━━━━━━━━━\u001b[0m \u001b[32m1.0/1.0 MB\u001b[0m \u001b[31m6.4 MB/s\u001b[0m eta \u001b[36m0:00:00\u001b[0m\n",
            "\u001b[2K     \u001b[90m━━━━━━━━━━━━━━━━━━━━━━━━━━━━━━━━━━━━━━━━\u001b[0m \u001b[32m2.0/2.0 MB\u001b[0m \u001b[31m13.1 MB/s\u001b[0m eta \u001b[36m0:00:00\u001b[0m\n",
            "\u001b[2K     \u001b[90m━━━━━━━━━━━━━━━━━━━━━━━━━━━━━━━━━━━━━━━━\u001b[0m \u001b[32m302.9/302.9 kB\u001b[0m \u001b[31m10.4 MB/s\u001b[0m eta \u001b[36m0:00:00\u001b[0m\n",
            "\u001b[2K     \u001b[90m━━━━━━━━━━━━━━━━━━━━━━━━━━━━━━━━━━━━━━━━\u001b[0m \u001b[32m120.8/120.8 kB\u001b[0m \u001b[31m5.5 MB/s\u001b[0m eta \u001b[36m0:00:00\u001b[0m\n",
            "\u001b[2K     \u001b[90m━━━━━━━━━━━━━━━━━━━━━━━━━━━━━━━━━━━━━━━━\u001b[0m \u001b[32m49.3/49.3 kB\u001b[0m \u001b[31m2.9 MB/s\u001b[0m eta \u001b[36m0:00:00\u001b[0m\n",
            "\u001b[2K     \u001b[90m━━━━━━━━━━━━━━━━━━━━━━━━━━━━━━━━━━━━━━━━\u001b[0m \u001b[32m53.0/53.0 kB\u001b[0m \u001b[31m1.7 MB/s\u001b[0m eta \u001b[36m0:00:00\u001b[0m\n",
            "\u001b[2K     \u001b[90m━━━━━━━━━━━━━━━━━━━━━━━━━━━━━━━━━━━━━━━━\u001b[0m \u001b[32m142.5/142.5 kB\u001b[0m \u001b[31m2.0 MB/s\u001b[0m eta \u001b[36m0:00:00\u001b[0m\n",
            "\u001b[2K     \u001b[90m━━━━━━━━━━━━━━━━━━━━━━━━━━━━━━━━━━━━━━━━\u001b[0m \u001b[32m401.2/401.2 kB\u001b[0m \u001b[31m5.7 MB/s\u001b[0m eta \u001b[36m0:00:00\u001b[0m\n",
            "\u001b[?25h"
          ]
        }
      ],
      "source": [
        "!pip install --quiet langchain\n",
        "%pip install --upgrade --quiet huggingface_hub"
      ]
    },
    {
      "cell_type": "code",
      "source": [
        "# get a token: https://huggingface.co/docs/api-inference/quicktour#get-your-api-token\n",
        "\n",
        "from getpass import getpass\n",
        "\n",
        "HUGGINGFACEHUB_API_TOKEN = getpass()"
      ],
      "metadata": {
        "colab": {
          "base_uri": "https://localhost:8080/"
        },
        "id": "H-qNB9qK6eIJ",
        "outputId": "516df516-05d8-4759-ab3d-b93a686e753e"
      },
      "execution_count": null,
      "outputs": [
        {
          "name": "stdout",
          "output_type": "stream",
          "text": [
            "··········\n"
          ]
        }
      ]
    },
    {
      "cell_type": "code",
      "source": [
        "import os\n",
        "\n",
        "os.environ[\"HUGGINGFACEHUB_API_TOKEN\"] = HUGGINGFACEHUB_API_TOKEN"
      ],
      "metadata": {
        "id": "BXnSCn3Q-CLF"
      },
      "execution_count": null,
      "outputs": []
    },
    {
      "cell_type": "code",
      "source": [
        "from langchain_community.llms import HuggingFaceEndpoint\n",
        "from langchain.output_parsers import  CommaSeparatedListOutputParser\n",
        "from langchain.prompts import HumanMessagePromptTemplate , ChatPromptTemplate , SystemMessagePromptTemplate , PromptTemplate\n",
        "from langchain.chains import LLMChain"
      ],
      "metadata": {
        "id": "8BF-fUl96hVR"
      },
      "execution_count": null,
      "outputs": []
    },
    {
      "cell_type": "code",
      "source": [
        "repo_id = \"mistralai/Mixtral-8x7B-Instruct-v0.1\"\n",
        "\n",
        "\n",
        "llm = HuggingFaceEndpoint(\n",
        "    repo_id=repo_id, temperature=0.8, huggingfacehub_api_token=HUGGINGFACEHUB_API_TOKEN\n",
        ")\n"
      ],
      "metadata": {
        "colab": {
          "base_uri": "https://localhost:8080/"
        },
        "id": "InKV6Eyu6tCE",
        "outputId": "e9d2efe0-d875-43a2-deaf-f0a6c96b7a08"
      },
      "execution_count": null,
      "outputs": [
        {
          "output_type": "stream",
          "name": "stdout",
          "text": [
            "The token has not been saved to the git credentials helper. Pass `add_to_git_credential=True` in this function directly or `--add-to-git-credential` if using via `huggingface-cli` if you want to set the git credential as well.\n",
            "Token is valid (permission: read).\n",
            "Your token has been saved to /root/.cache/huggingface/token\n",
            "Login successful\n"
          ]
        }
      ]
    },
    {
      "cell_type": "code",
      "source": [],
      "metadata": {
        "id": "s6fKUJfLGYlW"
      },
      "execution_count": null,
      "outputs": []
    },
    {
      "cell_type": "code",
      "source": [
        "question = \"Give me 10 characterctics of chickens\"\n",
        "#\"give me 5 ice cream flavours\"\n",
        "\n",
        "template = \"\"\"Question: {question}\n",
        "\n",
        "Format_instructions: {format}\n",
        "\n",
        "Answer should not have any numbers in the content. Answer should not have any \\n in the content.Avoid non-English words in the content.\n",
        "\"\"\"\n",
        "\n",
        "prompt = PromptTemplate.from_template(template)\n"
      ],
      "metadata": {
        "id": "YFVAwoQHJO24"
      },
      "execution_count": null,
      "outputs": []
    },
    {
      "cell_type": "code",
      "source": [
        "from langchain_core.runnables import Runnable\n",
        "from langchain_core.output_parsers import StrOutputParser\n",
        "parser = StrOutputParser()\n",
        "output_parser = CommaSeparatedListOutputParser()\n",
        "format_instructions= output_parser.get_format_instructions()"
      ],
      "metadata": {
        "id": "DCQajnO2Gk-b",
        "colab": {
          "base_uri": "https://localhost:8080/"
        },
        "outputId": "f6c1e695-68c6-4dea-fa37-633d2bb5f652"
      },
      "execution_count": null,
      "outputs": [
        {
          "output_type": "stream",
          "name": "stderr",
          "text": [
            "/usr/local/lib/python3.10/dist-packages/langchain_core/_api/deprecation.py:119: LangChainDeprecationWarning: The class `LLMChain` was deprecated in LangChain 0.1.17 and will be removed in 0.3.0. Use RunnableSequence, e.g., `prompt | llm` instead.\n",
            "  warn_deprecated(\n"
          ]
        }
      ]
    },
    {
      "cell_type": "code",
      "source": [
        "\n",
        "#llm_chain = LLMChain(prompt=prompt, llm=llm)\n",
        "\n",
        "#response = llm_chain.invoke({\n",
        "\n",
        " #          \"question\": question,\n",
        " #           \"format\": format_instructions\n",
        "#           })\n",
        "\n",
        "chain: Runnable =   prompt | llm | output_parser\n",
        "response = chain.invoke({\"question\": question,\n",
        "           \"format\": format_instructions})\n",
        "\n",
        "response\n"
      ],
      "metadata": {
        "colab": {
          "base_uri": "https://localhost:8080/"
        },
        "id": "k33rPeMGo6nc",
        "outputId": "3f664686-72d7-4ece-961a-8aed4974b6a7"
      },
      "execution_count": null,
      "outputs": [
        {
          "output_type": "execute_result",
          "data": {
            "text/plain": [
              "['Answer: `feathers',\n",
              " 'clucking',\n",
              " 'lays_eggs',\n",
              " 'pecks',\n",
              " 'roosts',\n",
              " 'waddles',\n",
              " 'omnivorous',\n",
              " 'brooding',\n",
              " 'crowing',\n",
              " 'social`']"
            ]
          },
          "metadata": {},
          "execution_count": 147
        }
      ]
    },
    {
      "cell_type": "code",
      "source": [
        "output_parser = CommaSeparatedListOutputParser()\n",
        "format_instructions = output_parser.get_format_instructions()\n",
        "prompt = PromptTemplate(\n",
        "    template=\"Give me 5 {subject}.\\n{format_instructions}.\\n{instruction}\",\n",
        "    input_variables=[\"subject\",\"instruction\"],\n",
        "    partial_variables={\"format_instructions\": format_instructions}\n",
        "\n",
        ")"
      ],
      "metadata": {
        "id": "n_4jbIHvGecp"
      },
      "execution_count": null,
      "outputs": []
    },
    {
      "cell_type": "code",
      "source": [
        "\n",
        "chain: Runnable =   prompt | llm | output_parser\n",
        "output = chain.invoke({\"subject\" : \"characteristics of chickens\"})\n",
        "\n",
        "print(type(output))\n",
        "print(output)\n"
      ],
      "metadata": {
        "colab": {
          "base_uri": "https://localhost:8080/"
        },
        "id": "G2GUM1qHGn2p",
        "outputId": "4e44b8a1-27a2-475c-ace1-80108d7e1c15"
      },
      "execution_count": null,
      "outputs": [
        {
          "output_type": "stream",
          "name": "stdout",
          "text": [
            "<class 'list'>\n",
            "['1. feathered\\n2. bipedal\\n3. omnivorous\\n4. oviparous\\n5. gallinaceous']\n"
          ]
        }
      ]
    },
    {
      "cell_type": "code",
      "source": [
        "llm_chain = LLMChain(prompt=prompt, llm=llm)\n",
        "\n",
        "response = llm_chain.invoke({\n",
        "          \"subject\" : \"winter flower name\",\n",
        "          \"instruction\": \"\"\"your answer should not have any numbers in it. you should not have any \\n in the content.Avoid non-English words in the content.\n",
        "\n",
        "        \"\"\"\n",
        "\n",
        "           })\n",
        "\n",
        "response\n"
      ],
      "metadata": {
        "colab": {
          "base_uri": "https://localhost:8080/"
        },
        "id": "6JEJSxkkIGOC",
        "outputId": "b14c0281-78e0-4b16-d2cc-c9ab71c05178"
      },
      "execution_count": null,
      "outputs": [
        {
          "output_type": "execute_result",
          "data": {
            "text/plain": [
              "{'subject': 'winter flower name',\n",
              " 'instruction': 'your answer should not have any numbers in it. you should not have any \\n in the content.Avoid non-English words in the content.\\n         \\n        ',\n",
              " 'text': ' Here is a list of 5 winter flowers:\\n\\n         Snowdrop, Pansy, Winter Jasmine, Cyclamen, Hellebore.'}"
            ]
          },
          "metadata": {},
          "execution_count": 204
        }
      ]
    },
    {
      "cell_type": "code",
      "source": [
        "print(response['text'])"
      ],
      "metadata": {
        "colab": {
          "base_uri": "https://localhost:8080/"
        },
        "id": "D-0ViPH-Lg4a",
        "outputId": "9756bfc4-1165-4b9e-daa9-42a40ae57df4"
      },
      "execution_count": null,
      "outputs": [
        {
          "output_type": "stream",
          "name": "stdout",
          "text": [
            " Here is a list of 5 winter flowers:\n",
            "\n",
            "         Snowdrop, Pansy, Winter Jasmine, Cyclamen, Hellebore.\n"
          ]
        }
      ]
    },
    {
      "cell_type": "code",
      "source": [
        "output_parser.parse(response['text'])\n"
      ],
      "metadata": {
        "colab": {
          "base_uri": "https://localhost:8080/"
        },
        "id": "x9IlYDyvLmb5",
        "outputId": "bd537ebb-c235-477a-fc60-87d9e369cf89"
      },
      "execution_count": null,
      "outputs": [
        {
          "output_type": "execute_result",
          "data": {
            "text/plain": [
              "['Here is a list of 5 winter flowers:\\n\\n         Snowdrop',\n",
              " 'Pansy',\n",
              " 'Winter Jasmine',\n",
              " 'Cyclamen',\n",
              " 'Hellebore.']"
            ]
          },
          "metadata": {},
          "execution_count": 206
        }
      ]
    }
  ]
}